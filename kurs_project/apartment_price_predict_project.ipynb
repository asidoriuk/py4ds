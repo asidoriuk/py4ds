{
 "cells": [
  {
   "cell_type": "code",
   "execution_count": 843,
   "metadata": {},
   "outputs": [],
   "source": [
    "import pandas as pd\n",
    "from sklearn.model_selection import train_test_split\n",
    "from sklearn.ensemble import RandomForestRegressor as RF\n",
    "from sklearn.metrics import r2_score as r2\n",
    "\n",
    "pd.options.mode.chained_assignment = None"
   ]
  },
  {
   "cell_type": "code",
   "execution_count": 844,
   "metadata": {},
   "outputs": [],
   "source": [
    "data = pd.read_csv('train.csv')\n",
    "\n",
    "train, valid = train_test_split(data, test_size=0.27, random_state=42)"
   ]
  },
  {
   "cell_type": "markdown",
   "metadata": {},
   "source": [
    "### Подготовка данных для обучения модели"
   ]
  },
  {
   "cell_type": "code",
   "execution_count": 845,
   "metadata": {},
   "outputs": [
    {
     "data": {
      "text/html": [
       "<div>\n",
       "<style scoped>\n",
       "    .dataframe tbody tr th:only-of-type {\n",
       "        vertical-align: middle;\n",
       "    }\n",
       "\n",
       "    .dataframe tbody tr th {\n",
       "        vertical-align: top;\n",
       "    }\n",
       "\n",
       "    .dataframe thead th {\n",
       "        text-align: right;\n",
       "    }\n",
       "</style>\n",
       "<table border=\"1\" class=\"dataframe\">\n",
       "  <thead>\n",
       "    <tr style=\"text-align: right;\">\n",
       "      <th></th>\n",
       "      <th>Id</th>\n",
       "      <th>DistrictId</th>\n",
       "      <th>Rooms</th>\n",
       "      <th>Square</th>\n",
       "      <th>LifeSquare</th>\n",
       "      <th>KitchenSquare</th>\n",
       "      <th>Floor</th>\n",
       "      <th>HouseFloor</th>\n",
       "      <th>HouseYear</th>\n",
       "      <th>Ecology_1</th>\n",
       "      <th>Social_1</th>\n",
       "      <th>Social_2</th>\n",
       "      <th>Social_3</th>\n",
       "      <th>Healthcare_1</th>\n",
       "      <th>Helthcare_2</th>\n",
       "      <th>Shops_1</th>\n",
       "      <th>Price</th>\n",
       "    </tr>\n",
       "  </thead>\n",
       "  <tbody>\n",
       "    <tr>\n",
       "      <th>count</th>\n",
       "      <td>7300.000000</td>\n",
       "      <td>7300.000000</td>\n",
       "      <td>7300.000000</td>\n",
       "      <td>7300.000000</td>\n",
       "      <td>5746.000000</td>\n",
       "      <td>7300.000000</td>\n",
       "      <td>7300.000000</td>\n",
       "      <td>7300.000000</td>\n",
       "      <td>7.300000e+03</td>\n",
       "      <td>7300.000000</td>\n",
       "      <td>7300.000000</td>\n",
       "      <td>7300.000000</td>\n",
       "      <td>7300.000000</td>\n",
       "      <td>3785.00000</td>\n",
       "      <td>7300.000000</td>\n",
       "      <td>7300.000000</td>\n",
       "      <td>7300.000000</td>\n",
       "    </tr>\n",
       "    <tr>\n",
       "      <th>mean</th>\n",
       "      <td>8374.583836</td>\n",
       "      <td>50.532603</td>\n",
       "      <td>1.888630</td>\n",
       "      <td>56.286578</td>\n",
       "      <td>37.459112</td>\n",
       "      <td>6.443699</td>\n",
       "      <td>8.504521</td>\n",
       "      <td>12.623151</td>\n",
       "      <td>4.731884e+03</td>\n",
       "      <td>0.117534</td>\n",
       "      <td>24.719178</td>\n",
       "      <td>5356.172329</td>\n",
       "      <td>8.070959</td>\n",
       "      <td>1132.45284</td>\n",
       "      <td>1.307397</td>\n",
       "      <td>4.258630</td>\n",
       "      <td>214168.702444</td>\n",
       "    </tr>\n",
       "    <tr>\n",
       "      <th>std</th>\n",
       "      <td>4859.222359</td>\n",
       "      <td>43.731954</td>\n",
       "      <td>0.840675</td>\n",
       "      <td>20.415394</td>\n",
       "      <td>100.045376</td>\n",
       "      <td>33.302814</td>\n",
       "      <td>5.220509</td>\n",
       "      <td>6.842145</td>\n",
       "      <td>2.346678e+05</td>\n",
       "      <td>0.118379</td>\n",
       "      <td>17.584019</td>\n",
       "      <td>4008.200814</td>\n",
       "      <td>23.925105</td>\n",
       "      <td>1016.76975</td>\n",
       "      <td>1.485750</td>\n",
       "      <td>4.820887</td>\n",
       "      <td>92501.503024</td>\n",
       "    </tr>\n",
       "    <tr>\n",
       "      <th>min</th>\n",
       "      <td>0.000000</td>\n",
       "      <td>0.000000</td>\n",
       "      <td>0.000000</td>\n",
       "      <td>2.377248</td>\n",
       "      <td>0.370619</td>\n",
       "      <td>0.000000</td>\n",
       "      <td>1.000000</td>\n",
       "      <td>0.000000</td>\n",
       "      <td>1.912000e+03</td>\n",
       "      <td>0.000000</td>\n",
       "      <td>0.000000</td>\n",
       "      <td>168.000000</td>\n",
       "      <td>0.000000</td>\n",
       "      <td>30.00000</td>\n",
       "      <td>0.000000</td>\n",
       "      <td>0.000000</td>\n",
       "      <td>59174.778028</td>\n",
       "    </tr>\n",
       "    <tr>\n",
       "      <th>25%</th>\n",
       "      <td>4170.250000</td>\n",
       "      <td>19.000000</td>\n",
       "      <td>1.000000</td>\n",
       "      <td>41.745094</td>\n",
       "      <td>22.801890</td>\n",
       "      <td>1.000000</td>\n",
       "      <td>4.000000</td>\n",
       "      <td>9.000000</td>\n",
       "      <td>1.974000e+03</td>\n",
       "      <td>0.017647</td>\n",
       "      <td>6.000000</td>\n",
       "      <td>1564.000000</td>\n",
       "      <td>0.000000</td>\n",
       "      <td>325.00000</td>\n",
       "      <td>0.000000</td>\n",
       "      <td>1.000000</td>\n",
       "      <td>154466.591200</td>\n",
       "    </tr>\n",
       "    <tr>\n",
       "      <th>50%</th>\n",
       "      <td>8380.500000</td>\n",
       "      <td>36.000000</td>\n",
       "      <td>2.000000</td>\n",
       "      <td>52.590935</td>\n",
       "      <td>32.806190</td>\n",
       "      <td>6.000000</td>\n",
       "      <td>7.000000</td>\n",
       "      <td>13.000000</td>\n",
       "      <td>1.977000e+03</td>\n",
       "      <td>0.072158</td>\n",
       "      <td>25.000000</td>\n",
       "      <td>5285.000000</td>\n",
       "      <td>2.000000</td>\n",
       "      <td>900.00000</td>\n",
       "      <td>1.000000</td>\n",
       "      <td>3.000000</td>\n",
       "      <td>192359.511502</td>\n",
       "    </tr>\n",
       "    <tr>\n",
       "      <th>75%</th>\n",
       "      <td>12542.750000</td>\n",
       "      <td>75.000000</td>\n",
       "      <td>2.000000</td>\n",
       "      <td>65.981105</td>\n",
       "      <td>45.089597</td>\n",
       "      <td>9.000000</td>\n",
       "      <td>12.000000</td>\n",
       "      <td>17.000000</td>\n",
       "      <td>2.001000e+03</td>\n",
       "      <td>0.194489</td>\n",
       "      <td>36.000000</td>\n",
       "      <td>7287.000000</td>\n",
       "      <td>5.000000</td>\n",
       "      <td>1548.00000</td>\n",
       "      <td>2.000000</td>\n",
       "      <td>6.000000</td>\n",
       "      <td>249053.269789</td>\n",
       "    </tr>\n",
       "    <tr>\n",
       "      <th>max</th>\n",
       "      <td>16796.000000</td>\n",
       "      <td>209.000000</td>\n",
       "      <td>19.000000</td>\n",
       "      <td>604.705972</td>\n",
       "      <td>7480.592129</td>\n",
       "      <td>2014.000000</td>\n",
       "      <td>42.000000</td>\n",
       "      <td>117.000000</td>\n",
       "      <td>2.005201e+07</td>\n",
       "      <td>0.521867</td>\n",
       "      <td>74.000000</td>\n",
       "      <td>19083.000000</td>\n",
       "      <td>141.000000</td>\n",
       "      <td>4849.00000</td>\n",
       "      <td>6.000000</td>\n",
       "      <td>23.000000</td>\n",
       "      <td>627525.072788</td>\n",
       "    </tr>\n",
       "  </tbody>\n",
       "</table>\n",
       "</div>"
      ],
      "text/plain": [
       "                 Id   DistrictId        Rooms       Square   LifeSquare  \\\n",
       "count   7300.000000  7300.000000  7300.000000  7300.000000  5746.000000   \n",
       "mean    8374.583836    50.532603     1.888630    56.286578    37.459112   \n",
       "std     4859.222359    43.731954     0.840675    20.415394   100.045376   \n",
       "min        0.000000     0.000000     0.000000     2.377248     0.370619   \n",
       "25%     4170.250000    19.000000     1.000000    41.745094    22.801890   \n",
       "50%     8380.500000    36.000000     2.000000    52.590935    32.806190   \n",
       "75%    12542.750000    75.000000     2.000000    65.981105    45.089597   \n",
       "max    16796.000000   209.000000    19.000000   604.705972  7480.592129   \n",
       "\n",
       "       KitchenSquare        Floor   HouseFloor     HouseYear    Ecology_1  \\\n",
       "count    7300.000000  7300.000000  7300.000000  7.300000e+03  7300.000000   \n",
       "mean        6.443699     8.504521    12.623151  4.731884e+03     0.117534   \n",
       "std        33.302814     5.220509     6.842145  2.346678e+05     0.118379   \n",
       "min         0.000000     1.000000     0.000000  1.912000e+03     0.000000   \n",
       "25%         1.000000     4.000000     9.000000  1.974000e+03     0.017647   \n",
       "50%         6.000000     7.000000    13.000000  1.977000e+03     0.072158   \n",
       "75%         9.000000    12.000000    17.000000  2.001000e+03     0.194489   \n",
       "max      2014.000000    42.000000   117.000000  2.005201e+07     0.521867   \n",
       "\n",
       "          Social_1      Social_2     Social_3  Healthcare_1  Helthcare_2  \\\n",
       "count  7300.000000   7300.000000  7300.000000    3785.00000  7300.000000   \n",
       "mean     24.719178   5356.172329     8.070959    1132.45284     1.307397   \n",
       "std      17.584019   4008.200814    23.925105    1016.76975     1.485750   \n",
       "min       0.000000    168.000000     0.000000      30.00000     0.000000   \n",
       "25%       6.000000   1564.000000     0.000000     325.00000     0.000000   \n",
       "50%      25.000000   5285.000000     2.000000     900.00000     1.000000   \n",
       "75%      36.000000   7287.000000     5.000000    1548.00000     2.000000   \n",
       "max      74.000000  19083.000000   141.000000    4849.00000     6.000000   \n",
       "\n",
       "           Shops_1          Price  \n",
       "count  7300.000000    7300.000000  \n",
       "mean      4.258630  214168.702444  \n",
       "std       4.820887   92501.503024  \n",
       "min       0.000000   59174.778028  \n",
       "25%       1.000000  154466.591200  \n",
       "50%       3.000000  192359.511502  \n",
       "75%       6.000000  249053.269789  \n",
       "max      23.000000  627525.072788  "
      ]
     },
     "execution_count": 845,
     "metadata": {},
     "output_type": "execute_result"
    }
   ],
   "source": [
    "train.describe()"
   ]
  },
  {
   "cell_type": "markdown",
   "metadata": {},
   "source": [
    "### Исправление явных ошибок"
   ]
  },
  {
   "cell_type": "code",
   "execution_count": 846,
   "metadata": {},
   "outputs": [
    {
     "data": {
      "text/html": [
       "<div>\n",
       "<style scoped>\n",
       "    .dataframe tbody tr th:only-of-type {\n",
       "        vertical-align: middle;\n",
       "    }\n",
       "\n",
       "    .dataframe tbody tr th {\n",
       "        vertical-align: top;\n",
       "    }\n",
       "\n",
       "    .dataframe thead th {\n",
       "        text-align: right;\n",
       "    }\n",
       "</style>\n",
       "<table border=\"1\" class=\"dataframe\">\n",
       "  <thead>\n",
       "    <tr style=\"text-align: right;\">\n",
       "      <th></th>\n",
       "      <th>Id</th>\n",
       "      <th>DistrictId</th>\n",
       "      <th>Rooms</th>\n",
       "      <th>Square</th>\n",
       "      <th>LifeSquare</th>\n",
       "      <th>KitchenSquare</th>\n",
       "      <th>Floor</th>\n",
       "      <th>HouseFloor</th>\n",
       "      <th>HouseYear</th>\n",
       "      <th>Ecology_1</th>\n",
       "      <th>Ecology_2</th>\n",
       "      <th>Ecology_3</th>\n",
       "      <th>Social_1</th>\n",
       "      <th>Social_2</th>\n",
       "      <th>Social_3</th>\n",
       "      <th>Healthcare_1</th>\n",
       "      <th>Helthcare_2</th>\n",
       "      <th>Shops_1</th>\n",
       "      <th>Shops_2</th>\n",
       "      <th>Price</th>\n",
       "    </tr>\n",
       "  </thead>\n",
       "  <tbody>\n",
       "    <tr>\n",
       "      <th>4189</th>\n",
       "      <td>11607</td>\n",
       "      <td>147</td>\n",
       "      <td>2.0</td>\n",
       "      <td>44.791836</td>\n",
       "      <td>28.360393</td>\n",
       "      <td>5.0</td>\n",
       "      <td>4</td>\n",
       "      <td>9.0</td>\n",
       "      <td>4968</td>\n",
       "      <td>0.319809</td>\n",
       "      <td>B</td>\n",
       "      <td>B</td>\n",
       "      <td>25</td>\n",
       "      <td>4756</td>\n",
       "      <td>16</td>\n",
       "      <td>2857.0</td>\n",
       "      <td>5</td>\n",
       "      <td>8</td>\n",
       "      <td>B</td>\n",
       "      <td>243028.603096</td>\n",
       "    </tr>\n",
       "    <tr>\n",
       "      <th>1497</th>\n",
       "      <td>10814</td>\n",
       "      <td>109</td>\n",
       "      <td>1.0</td>\n",
       "      <td>37.265070</td>\n",
       "      <td>20.239714</td>\n",
       "      <td>9.0</td>\n",
       "      <td>9</td>\n",
       "      <td>12.0</td>\n",
       "      <td>20052011</td>\n",
       "      <td>0.136330</td>\n",
       "      <td>B</td>\n",
       "      <td>B</td>\n",
       "      <td>30</td>\n",
       "      <td>6141</td>\n",
       "      <td>10</td>\n",
       "      <td>262.0</td>\n",
       "      <td>3</td>\n",
       "      <td>6</td>\n",
       "      <td>B</td>\n",
       "      <td>254084.534396</td>\n",
       "    </tr>\n",
       "  </tbody>\n",
       "</table>\n",
       "</div>"
      ],
      "text/plain": [
       "         Id  DistrictId  Rooms     Square  LifeSquare  KitchenSquare  Floor  \\\n",
       "4189  11607         147    2.0  44.791836   28.360393            5.0      4   \n",
       "1497  10814         109    1.0  37.265070   20.239714            9.0      9   \n",
       "\n",
       "      HouseFloor  HouseYear  Ecology_1 Ecology_2 Ecology_3  Social_1  \\\n",
       "4189         9.0       4968   0.319809         B         B        25   \n",
       "1497        12.0   20052011   0.136330         B         B        30   \n",
       "\n",
       "      Social_2  Social_3  Healthcare_1  Helthcare_2  Shops_1 Shops_2  \\\n",
       "4189      4756        16        2857.0            5        8       B   \n",
       "1497      6141        10         262.0            3        6       B   \n",
       "\n",
       "              Price  \n",
       "4189  243028.603096  \n",
       "1497  254084.534396  "
      ]
     },
     "execution_count": 846,
     "metadata": {},
     "output_type": "execute_result"
    }
   ],
   "source": [
    "train.loc[train['HouseYear'] > 2020, :]"
   ]
  },
  {
   "cell_type": "code",
   "execution_count": 847,
   "metadata": {},
   "outputs": [],
   "source": [
    "train.loc[train['HouseYear'] == 4968, 'HouseYear'] = 1968\n",
    "train.loc[train['HouseYear'] == 20052011, 'HouseYear'] = 2008"
   ]
  },
  {
   "cell_type": "code",
   "execution_count": 848,
   "metadata": {},
   "outputs": [],
   "source": [
    "train.loc[train['Id'].isin([28,2307]), 'Square'] = train['Square']/10"
   ]
  },
  {
   "cell_type": "code",
   "execution_count": 849,
   "metadata": {},
   "outputs": [],
   "source": [
    "def clean_data(df):\n",
    "    df.loc[(df['LifeSquare'] < 1), 'LifeSquare'] = df['LifeSquare']*100\n",
    "    df.loc[(df['Square'] < 1), 'Square'] = df['Square']*100\n",
    "    df.loc[(df['LifeSquare'] <= 10), 'LifeSquare'] = df['LifeSquare']*10\n",
    "    df.loc[(df['Square'] <= 10), 'Square'] = df['Square']*10\n",
    "    df.loc[(df['Rooms'] == 0) & (df['Square'] < 40 ), 'Rooms'] = 1\n",
    "    df.loc[(df['Rooms'] == 0) & (df['Square'] >= 40 ) & (df['Square'] < 90), 'Rooms'] = 2\n",
    "    df.loc[(df['Rooms'] == 0) & (df['Square'] >= 90 ) & (df['Square'] < 140), 'Rooms'] = 3\n",
    "    df.loc[(df['Rooms'] > 4) & (df['Square'] < 40 ), 'Rooms'] = 1\n",
    "    df.loc[(df['Rooms'] > 4) & (df['Square'] >= 40 ) & (df['Square'] < 90), 'Rooms'] = 2\n",
    "    df.loc[(df['Rooms'] > 4) & (df['Square'] >= 90 ) & (df['Square'] < 140), 'Rooms'] = 3\n",
    "    df.loc[(df['Square'] < 30) & (df['Rooms'] >= 3), 'Rooms'] = 1\n",
    "    df.loc[df['Square'] < df['LifeSquare'], 'LifeSquare'] = df['Square']\n",
    "    df.loc[:, 'LifeSquare'] = df['Square'].fillna(df['Square'])\n",
    "    return df"
   ]
  },
  {
   "cell_type": "markdown",
   "metadata": {},
   "source": [
    "### Добавление признаков, вычисленных по исходным данным"
   ]
  },
  {
   "cell_type": "code",
   "execution_count": 850,
   "metadata": {},
   "outputs": [],
   "source": [
    "def add_features(df):\n",
    "    # размер района\n",
    "    district = df.groupby(['DistrictId', 'Ecology_2', 'Ecology_3', 'Shops_2'], as_index=False)['Square'].mean().rename(columns={'Square': 'district_shape'})\n",
    "    df = pd.merge(df, district, on=['DistrictId', 'Ecology_2', 'Ecology_3', 'Shops_2'], how='left')\n",
    "\n",
    "    m_price = df.groupby(['DistrictId', 'Square', 'Ecology_2', 'Ecology_3', 'Shops_2'], as_index=False)['Price'].mean().rename(columns={'Price': 'mean_price'})\n",
    "    df = pd.merge(df, m_price, on=['DistrictId', 'Square', 'Ecology_2', 'Ecology_3', 'Shops_2'], how='left')\n",
    "\n",
    "    df['m_price'] = df['Price']/df['Square']\n",
    "\n",
    "    mean_m_price = df.groupby(['DistrictId', 'Ecology_2', 'Ecology_3', 'Shops_2'], as_index=False)['m_price'].mean().rename(columns={'m_price': 'mean_m_price'})\n",
    "    df = pd.merge(df, mean_m_price, on=['DistrictId', 'Ecology_2', 'Ecology_3', 'Shops_2'], how='left')\n",
    "\n",
    "    return df"
   ]
  },
  {
   "cell_type": "markdown",
   "metadata": {},
   "source": [
    "### Построение модели"
   ]
  },
  {
   "cell_type": "code",
   "execution_count": 851,
   "metadata": {},
   "outputs": [],
   "source": [
    "model = RF(n_estimators=250, max_depth=15, random_state=42)"
   ]
  },
  {
   "cell_type": "code",
   "execution_count": 852,
   "metadata": {},
   "outputs": [],
   "source": [
    "# Чистим данные, добавляем признаки\n",
    "train = clean_data(train)\n",
    "train = add_features(train)"
   ]
  },
  {
   "cell_type": "code",
   "execution_count": 853,
   "metadata": {},
   "outputs": [],
   "source": [
    "features = ['DistrictId','Rooms','Square','LifeSquare','HouseYear','Ecology_1','Social_1','Social_2',\n",
    "            'Social_3','Helthcare_2','Shops_1']"
   ]
  },
  {
   "cell_type": "code",
   "execution_count": 854,
   "metadata": {},
   "outputs": [
    {
     "data": {
      "text/plain": [
       "RandomForestRegressor(bootstrap=True, criterion='mse', max_depth=15,\n",
       "           max_features='auto', max_leaf_nodes=None,\n",
       "           min_impurity_decrease=0.0, min_impurity_split=None,\n",
       "           min_samples_leaf=1, min_samples_split=2,\n",
       "           min_weight_fraction_leaf=0.0, n_estimators=250, n_jobs=None,\n",
       "           oob_score=False, random_state=42, verbose=0, warm_start=False)"
      ]
     },
     "execution_count": 854,
     "metadata": {},
     "output_type": "execute_result"
    }
   ],
   "source": [
    "model.fit(train.loc[:, features], train['Price'])"
   ]
  },
  {
   "cell_type": "markdown",
   "metadata": {},
   "source": [
    "### Проверка"
   ]
  },
  {
   "cell_type": "code",
   "execution_count": 855,
   "metadata": {},
   "outputs": [],
   "source": [
    "def get_prediction(model, df, features=features, evaluate='Yes'):\n",
    "    pred = model.predict(df.loc[:, features])\n",
    "    if evaluate == 'Yes':\n",
    "        r2_value = r2(df['Price'], pred)\n",
    "        print('R2: {}'.format(r2_value))\n",
    "    return pred"
   ]
  },
  {
   "cell_type": "code",
   "execution_count": 856,
   "metadata": {},
   "outputs": [
    {
     "name": "stdout",
     "output_type": "stream",
     "text": [
      "R2: 0.9366299753400765\n"
     ]
    }
   ],
   "source": [
    "pred_train = get_prediction(model=model, df=train)"
   ]
  },
  {
   "cell_type": "code",
   "execution_count": 857,
   "metadata": {},
   "outputs": [],
   "source": [
    "valid = clean_data(valid)\n",
    "valid = add_features(valid)"
   ]
  },
  {
   "cell_type": "code",
   "execution_count": 858,
   "metadata": {},
   "outputs": [
    {
     "name": "stdout",
     "output_type": "stream",
     "text": [
      "R2: 0.7116106277742006\n"
     ]
    }
   ],
   "source": [
    "pred_valid = get_prediction(model=model, df=valid)"
   ]
  },
  {
   "cell_type": "markdown",
   "metadata": {},
   "source": [
    "### Предсказание цен"
   ]
  },
  {
   "cell_type": "code",
   "execution_count": 859,
   "metadata": {},
   "outputs": [],
   "source": [
    "test_data = pd.read_csv('test.csv')"
   ]
  },
  {
   "cell_type": "code",
   "execution_count": 860,
   "metadata": {},
   "outputs": [
    {
     "data": {
      "text/plain": [
       "(5000, 19)"
      ]
     },
     "execution_count": 860,
     "metadata": {},
     "output_type": "execute_result"
    }
   ],
   "source": [
    "test_data.shape"
   ]
  },
  {
   "cell_type": "code",
   "execution_count": 861,
   "metadata": {},
   "outputs": [],
   "source": [
    "test_data = clean_data(test_data)"
   ]
  },
  {
   "cell_type": "code",
   "execution_count": 862,
   "metadata": {},
   "outputs": [],
   "source": [
    "test_data['Price'] = model.predict(test_data.loc[:, features])"
   ]
  },
  {
   "cell_type": "code",
   "execution_count": 863,
   "metadata": {},
   "outputs": [
    {
     "data": {
      "text/plain": [
       "count      5000.000000\n",
       "mean     215817.751805\n",
       "std       80632.119021\n",
       "min       63841.875914\n",
       "25%      163944.476304\n",
       "50%      195602.879435\n",
       "75%      250123.606760\n",
       "max      576086.222746\n",
       "Name: Price, dtype: float64"
      ]
     },
     "execution_count": 863,
     "metadata": {},
     "output_type": "execute_result"
    }
   ],
   "source": [
    "test_data['Price'].describe()"
   ]
  },
  {
   "cell_type": "code",
   "execution_count": 864,
   "metadata": {},
   "outputs": [],
   "source": [
    "test_data.loc[:, ['Id', 'Price']].to_csv('ASidoryuk_predictions.csv', index=None)"
   ]
  }
 ],
 "metadata": {
  "kernelspec": {
   "display_name": "Python 3",
   "language": "python",
   "name": "python3"
  },
  "language_info": {
   "codemirror_mode": {
    "name": "ipython",
    "version": 3
   },
   "file_extension": ".py",
   "mimetype": "text/x-python",
   "name": "python",
   "nbconvert_exporter": "python",
   "pygments_lexer": "ipython3",
   "version": "3.7.2"
  }
 },
 "nbformat": 4,
 "nbformat_minor": 2
}
